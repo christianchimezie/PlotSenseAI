{
  "nbformat": 4,
  "nbformat_minor": 0,
  "metadata": {
    "colab": {
      "provenance": [],
      "authorship_tag": "ABX9TyNg5Rgdk+gevAK7syNxy8ML",
      "include_colab_link": true
    },
    "kernelspec": {
      "name": "python3",
      "display_name": "Python 3"
    },
    "language_info": {
      "name": "python"
    }
  },
  "cells": [
    {
      "cell_type": "markdown",
      "metadata": {
        "id": "view-in-github",
        "colab_type": "text"
      },
      "source": [
        "<a href=\"https://colab.research.google.com/github/Nwaamaka-Iduwe/PlotSenseAI/blob/PL1/explanation_engine.ipynb\" target=\"_parent\"><img src=\"https://colab.research.google.com/assets/colab-badge.svg\" alt=\"Open In Colab\"/></a>"
      ]
    },
    {
      "cell_type": "code",
      "source": [
        "pip install groq\n"
      ],
      "metadata": {
        "colab": {
          "base_uri": "https://localhost:8080/"
        },
        "id": "RUxwV-2Jfo6Y",
        "outputId": "a3778e19-9d72-4b36-ac17-a090934ee011"
      },
      "execution_count": 1,
      "outputs": [
        {
          "output_type": "stream",
          "name": "stdout",
          "text": [
            "Collecting groq\n",
            "  Downloading groq-0.20.0-py3-none-any.whl.metadata (15 kB)\n",
            "Requirement already satisfied: anyio<5,>=3.5.0 in /usr/local/lib/python3.11/dist-packages (from groq) (3.7.1)\n",
            "Requirement already satisfied: distro<2,>=1.7.0 in /usr/local/lib/python3.11/dist-packages (from groq) (1.9.0)\n",
            "Requirement already satisfied: httpx<1,>=0.23.0 in /usr/local/lib/python3.11/dist-packages (from groq) (0.28.1)\n",
            "Requirement already satisfied: pydantic<3,>=1.9.0 in /usr/local/lib/python3.11/dist-packages (from groq) (2.10.6)\n",
            "Requirement already satisfied: sniffio in /usr/local/lib/python3.11/dist-packages (from groq) (1.3.1)\n",
            "Requirement already satisfied: typing-extensions<5,>=4.10 in /usr/local/lib/python3.11/dist-packages (from groq) (4.12.2)\n",
            "Requirement already satisfied: idna>=2.8 in /usr/local/lib/python3.11/dist-packages (from anyio<5,>=3.5.0->groq) (3.10)\n",
            "Requirement already satisfied: certifi in /usr/local/lib/python3.11/dist-packages (from httpx<1,>=0.23.0->groq) (2025.1.31)\n",
            "Requirement already satisfied: httpcore==1.* in /usr/local/lib/python3.11/dist-packages (from httpx<1,>=0.23.0->groq) (1.0.7)\n",
            "Requirement already satisfied: h11<0.15,>=0.13 in /usr/local/lib/python3.11/dist-packages (from httpcore==1.*->httpx<1,>=0.23.0->groq) (0.14.0)\n",
            "Requirement already satisfied: annotated-types>=0.6.0 in /usr/local/lib/python3.11/dist-packages (from pydantic<3,>=1.9.0->groq) (0.7.0)\n",
            "Requirement already satisfied: pydantic-core==2.27.2 in /usr/local/lib/python3.11/dist-packages (from pydantic<3,>=1.9.0->groq) (2.27.2)\n",
            "Downloading groq-0.20.0-py3-none-any.whl (124 kB)\n",
            "\u001b[2K   \u001b[90m━━━━━━━━━━━━━━━━━━━━━━━━━━━━━━━━━━━━━━━━\u001b[0m \u001b[32m124.9/124.9 kB\u001b[0m \u001b[31m2.6 MB/s\u001b[0m eta \u001b[36m0:00:00\u001b[0m\n",
            "\u001b[?25hInstalling collected packages: groq\n",
            "Successfully installed groq-0.20.0\n"
          ]
        }
      ]
    },
    {
      "cell_type": "code",
      "source": [
        "api_keys = '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'"
      ],
      "metadata": {
        "id": "QOmHeRZwf6kk"
      },
      "execution_count": 5,
      "outputs": []
    },
    {
      "cell_type": "code",
      "source": [
        "import pandas as pd\n"
      ],
      "metadata": {
        "id": "Em2gGA70pioj"
      },
      "execution_count": 10,
      "outputs": []
    },
    {
      "cell_type": "code",
      "execution_count": 6,
      "metadata": {
        "colab": {
          "base_uri": "https://localhost:8080/"
        },
        "id": "w-B0gu8XeiO3",
        "outputId": "52178395-1ad5-4b55-bbb3-e10a0d70307b"
      },
      "outputs": [
        {
          "output_type": "stream",
          "name": "stdout",
          "text": [
            "Here is a Python program to generate a star with a triangle:\n",
            "\n",
            "```\n",
            "def print_star_triangle(n):\n",
            "    for i in range(n):\n",
            "        print(' ' * (n - i - 1) + '*' * (2 * i + 1))\n",
            "\n",
            "def print_star():\n",
            "    n = 5\n",
            "    print_star_triangle(n)\n",
            "    for i in range(n - 2, -1, -1):\n",
            "        print(' ' * (n - i - 1) + '*' * (2 * i + 1))\n",
            "\n",
            "print_star()\n",
            "```\n",
            "\n",
            "This program will generate the following output:\n",
            "\n",
            "```\n",
            "    *\n",
            "   ***\n",
            "  *****\n",
            " *******\n",
            "*********\n",
            " *******\n",
            "  *****\n",
            "   ***\n",
            "    *\n",
            "```\n",
            "\n",
            "This program uses a function `print_star_triangle` to print the upper half of the star, and then it calls this function again with the loop running in reverse to print the lower half of the star. The number of rows in the star is determined by the variable `n`.\n"
          ]
        }
      ],
      "source": [
        "import os\n",
        "\n",
        "from groq import Groq\n",
        "\n",
        "client = Groq(\n",
        "    api_key= api_keys,\n",
        ")\n",
        "\n",
        "chat_completion = client.chat.completions.create(\n",
        "    messages=[\n",
        "        {\n",
        "            \"role\": \"user\",\n",
        "            \"content\": \"WAP to generate a star with triangle \",\n",
        "        }\n",
        "    ],\n",
        "    model=\"llama3-70b-8192\",\n",
        ")\n",
        "\n",
        "print(chat_completion.choices[0].message.content)\n"
      ]
    },
    {
      "cell_type": "code",
      "source": [
        "# prompt: using groq write the code to use llama as chosen model for chart explanation\n",
        "\n",
        "\n",
        "def generate_chart_explanation(chart_data):\n",
        "  \"\"\"Generates an explanation for a chart using the Llama model.\n",
        "\n",
        "  Args:\n",
        "    chart_data: The data representing the chart.\n",
        "\n",
        "  Returns:\n",
        "    A string containing the explanation for the chart.\n",
        "  \"\"\"\n",
        "\n",
        "  prompt = f\"Explain this chart data: {chart_data}\"\n",
        "\n",
        "  chat_completion = client.chat.completions.create(\n",
        "      messages=[\n",
        "          {\n",
        "              \"role\": \"user\",\n",
        "              \"content\": prompt,\n",
        "          }\n",
        "      ],\n",
        "      model=\"llama3-70b-8192\",  # Use Llama as the chosen model\n",
        "  )\n",
        "\n",
        "  return chat_completion.choices[0].message.content\n",
        "\n",
        "# prompt: using groq write the code to use llama as chosen model for chart explanation\n",
        "\n",
        "\n",
        "def generate_chart_explanation(chart_data):\n",
        "  \"\"\"Generates an explanation for a chart using the Llama model.\n",
        "\n",
        "  Args:\n",
        "    chart_data: The data representing the chart.\n",
        "\n",
        "  Returns:\n",
        "    A string containing the explanation for the chart.\n",
        "  \"\"\"\n",
        "\n",
        "  prompt = f\"Explain this chart data: {chart_data}\"\n",
        "\n",
        "  # Assuming 'client' is defined elsewhere and has the necessary methods for interacting with the Llama model\n",
        "  chat_completion = client.chat.completions.create(\n",
        "      messages=[\n",
        "          {\n",
        "              \"role\": \"user\",\n",
        "              \"content\": prompt,\n",
        "          }\n",
        "      ],\n",
        "      model=\"llama3-70b-8192\",  # Use Llama as the chosen model\n",
        "  )\n",
        "\n",
        "  return chat_completion.choices[0].message.content\n",
        "\n",
        "\n",
        "# Example usage:\n",
        "chart_data = pd.read_csv('/content/Sales_date (1).csv')  # Path to the chart data should be a string\n",
        "explanation = generate_chart_explanation(chart_data)\n",
        "print(explanation)\n"
      ],
      "metadata": {
        "colab": {
          "base_uri": "https://localhost:8080/"
        },
        "id": "ECNc1k5egVyG",
        "outputId": "f346686e-5b5f-4e59-89d0-4f6e21919578"
      },
      "execution_count": 11,
      "outputs": [
        {
          "output_type": "stream",
          "name": "stdout",
          "text": [
            "This is a dataset of sales transactions from a bakery or cafe, with 1005 rows (transactions) and 21 columns (variables). Here's a breakdown of the columns:\n",
            "\n",
            "**Date and Time**\n",
            "\n",
            "* `Date`: The date of the transaction, in the format `YYYY-MM-DD`.\n",
            "* `Time`: The time of the transaction, in the format `HH:MM:SS`.\n",
            "\n",
            "**Product Information**\n",
            "\n",
            "* `ProductName`: The name of the product sold (e.g., \"Vanilla Cake\", \"Red Velvet Cake\", \"Pizza Pepperoni\").\n",
            "* `Quantity`: The number of units of the product sold.\n",
            "* `UnitPrice`: The price of each unit of the product.\n",
            "\n",
            "**Store and Payment Information**\n",
            "\n",
            "* `StoreLocation`: The location of the store where the transaction took place (e.g., \"South\", \"North\", \"East\").\n",
            "* `PaymentType`: The type of payment used (e.g., \"Cash\", \"Credit Card\", \"Online\").\n",
            "\n",
            "**Promotions and Weather**\n",
            "\n",
            "* `PromotionApplied`: A boolean indicating whether a promotion was applied to the transaction.\n",
            "* `Weather`: The weather conditions on the day of the transaction (e.g., \"Rainy\", \"Cloudy\", \"Sunny\").\n",
            "* `Temperature`: The temperature on the day of the transaction.\n",
            "\n",
            "**Staff Performance**\n",
            "\n",
            "* `StaffPerformanceRating`: The rating of the staff member who handled the transaction (e.g., \"Poor\", \"Average\", \"Excellent\").\n",
            "* `Staff_Name`: The name of the staff member who handled the transaction.\n",
            "* `Staff_Email`: The email address of the staff member who handled the transaction.\n",
            "\n",
            "**Customer Information**\n",
            "\n",
            "* `CustomerName`: The name of the customer who made the purchase.\n",
            "* `CustomerAddress`: The address of the customer who made the purchase.\n",
            "* `Customer_PhoneNumber`: The phone number of the customer who made the purchase.\n",
            "* `CustomerEmail`: The email address of the customer who made the purchase.\n",
            "\n",
            "**Order Information**\n",
            "\n",
            "* `DeliveryTime_min`: The time it took to deliver the order (in minutes).\n",
            "* `OrderType`: The type of order (e.g., \"In Store\", \"Phone Order\", \"Online Order\").\n",
            "\n",
            "**Additional Columns**\n",
            "\n",
            "* `DayOfWeek`: The day of the week when the transaction took place (e.g., \"Sunday\", \"Monday\").\n",
            "* `TotalSales`: The total sales amount for each transaction.\n",
            "\n",
            "This dataset provides a rich set of information about sales transactions, including product details, store and payment information, staff performance, customer data, and order details. It can be used to analyze sales patterns, customer behavior, and staff performance, as well as to identify trends and opportunities for improvement.\n"
          ]
        }
      ]
    },
    {
      "cell_type": "code",
      "source": [
        "import base64\n",
        "\n",
        "# Encode the image to a base64 string.\n",
        "with open(\"/content/MultipleBarplots.png\", \"rb\") as img:\n",
        "    s = base64.b64encode(img.read())\n",
        "\n",
        "print(s)\n",
        "\n",
        "# Save the encoded string to a file.\n",
        "with open('encode.bin', \"wb\") as f:\n",
        "    f.write(s)\n"
      ],
      "metadata": {
        "colab": {
          "base_uri": "https://localhost:8080/"
        },
        "id": "hngRXf_Esz3z",
        "outputId": "ca7d03fa-839a-4f74-af92-a13619a9c5ea"
      },
      "execution_count": 12,
      "outputs": [
        {
          "output_type": "stream",
          "name": "stdout",
          "text": [
            "b'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'\n"
          ]
        }
      ]
    },
    {
      "cell_type": "code",
      "source": [
        "import numpy as np"
      ],
      "metadata": {
        "id": "55sCFcnUxQUj"
      },
      "execution_count": 17,
      "outputs": []
    },
    {
      "source": [
        "def generate_chart_explanation_from_image(image_path):\n",
        "  \"\"\"Generates an explanation for a chart using the Llama model from an image path.\n",
        "\n",
        "  Args:\n",
        "    image_path: Path to the image file.\n",
        "\n",
        "  Returns:\n",
        "    A string containing the explanation for the chart.\n",
        "  \"\"\"\n",
        "\n",
        "  prompt = f\"Explain data in the plot {image_path} simple terms\"  # Use the image path instead of the encoded image\n",
        "\n",
        "  chat_completion = client.chat.completions.create(\n",
        "      messages=[\n",
        "          {\n",
        "              \"role\": \"user\",\n",
        "              \"content\": prompt,\n",
        "          }\n",
        "      ],\n",
        "      model=\"llama3-70b-8192\",  # Use Llama as the chosen model\n",
        "  )\n",
        "\n",
        "  return chat_completion.choices[0].message.content\n",
        "\n"
      ],
      "cell_type": "code",
      "metadata": {
        "id": "ivB2RHK0uNEr"
      },
      "execution_count": 31,
      "outputs": []
    },
    {
      "cell_type": "code",
      "source": [
        "chart_data.head()"
      ],
      "metadata": {
        "colab": {
          "base_uri": "https://localhost:8080/",
          "height": 429
        },
        "id": "1c3DDorOuoU5",
        "outputId": "b9927714-7f6b-48b1-ca0b-2216a385e305"
      },
      "execution_count": 19,
      "outputs": [
        {
          "output_type": "execute_result",
          "data": {
            "text/plain": [
              "                 Date      ProductName  Quantity  UnitPrice StoreLocation  \\\n",
              "0  2023-01-01 0:00:00     Vanilla Cake         2  12.532304         South   \n",
              "1  2023-01-01 1:00:00  Red Velvet Cake         1   7.083070         South   \n",
              "2  2023-01-01 2:00:00   Chocolate Cake         5   6.736064         North   \n",
              "3  2023-01-01 3:00:00      Carrot Cake         2   7.314823         North   \n",
              "4  2023-01-01 4:00:00  Pizza Pepperoni         1   7.577727          East   \n",
              "\n",
              "   PaymentType  PromotionApplied Weather  Temperature StaffPerformanceRating  \\\n",
              "0         Cash              True   Rainy    20.654914                   Poor   \n",
              "1         Cash             False   Rainy    23.549497                Average   \n",
              "2         Cash              True   Rainy          NaN              Excellent   \n",
              "3         Cash             False  Cloudy    20.137483                   Poor   \n",
              "4  Credit Card              True  Cloudy    23.020987                   Good   \n",
              "\n",
              "   ... DeliveryTime_min     OrderType      CustomerName  \\\n",
              "0  ...               30      In Store     William Adams   \n",
              "1  ...               33      In Store   Anthony Wiggins   \n",
              "2  ...               43   Phone Order       Ashley Duke   \n",
              "3  ...               32  Online Order    Brandon Taylor   \n",
              "4  ...               58      In Store  Brittany Watkins   \n",
              "\n",
              "                                     CustomerAddress Customer_PhoneNumber  \\\n",
              "0             9851 David Green\\nTonyaburgh, VA 02853    (916)427-7276x861   \n",
              "1        24682 Holly Stravenue\\nMooreville, NH 13901         769.318.4373   \n",
              "2  10184 Washington Trace Apt. 679\\nEast Brandist...         702.520.3286   \n",
              "3             87194 Jeff Rue\\nMitchellbury, CA 50463         622-527-9530   \n",
              "4               850 Julia Groves\\nHartview, WI 95954         759-517-8359   \n",
              "\n",
              "                   CustomerEmail        Staff_Name              Staff_Email  \\\n",
              "0             lisa00@example.net      John Bridges    pdavidson@example.com   \n",
              "1  michellefernandez@example.com     Sarah Bentley     ajohnson@example.net   \n",
              "2      cooperwilliam@example.com  Connie Cervantes    michele29@example.net   \n",
              "3             fsilva@example.net   Jessica Stewart      xwilson@example.org   \n",
              "4       petersjoseph@example.net  Cheryl Carpenter  christine96@example.org   \n",
              "\n",
              "  DayOfWeek TotalSales  \n",
              "0    Sunday  25.064608  \n",
              "1    Sunday   7.083070  \n",
              "2    Sunday  33.680321  \n",
              "3    Sunday  14.629647  \n",
              "4    Sunday   7.577727  \n",
              "\n",
              "[5 rows x 21 columns]"
            ],
            "text/html": [
              "\n",
              "  <div id=\"df-26cb3a88-095b-4dfb-ad7a-b0fd282cb8b9\" class=\"colab-df-container\">\n",
              "    <div>\n",
              "<style scoped>\n",
              "    .dataframe tbody tr th:only-of-type {\n",
              "        vertical-align: middle;\n",
              "    }\n",
              "\n",
              "    .dataframe tbody tr th {\n",
              "        vertical-align: top;\n",
              "    }\n",
              "\n",
              "    .dataframe thead th {\n",
              "        text-align: right;\n",
              "    }\n",
              "</style>\n",
              "<table border=\"1\" class=\"dataframe\">\n",
              "  <thead>\n",
              "    <tr style=\"text-align: right;\">\n",
              "      <th></th>\n",
              "      <th>Date</th>\n",
              "      <th>ProductName</th>\n",
              "      <th>Quantity</th>\n",
              "      <th>UnitPrice</th>\n",
              "      <th>StoreLocation</th>\n",
              "      <th>PaymentType</th>\n",
              "      <th>PromotionApplied</th>\n",
              "      <th>Weather</th>\n",
              "      <th>Temperature</th>\n",
              "      <th>StaffPerformanceRating</th>\n",
              "      <th>...</th>\n",
              "      <th>DeliveryTime_min</th>\n",
              "      <th>OrderType</th>\n",
              "      <th>CustomerName</th>\n",
              "      <th>CustomerAddress</th>\n",
              "      <th>Customer_PhoneNumber</th>\n",
              "      <th>CustomerEmail</th>\n",
              "      <th>Staff_Name</th>\n",
              "      <th>Staff_Email</th>\n",
              "      <th>DayOfWeek</th>\n",
              "      <th>TotalSales</th>\n",
              "    </tr>\n",
              "  </thead>\n",
              "  <tbody>\n",
              "    <tr>\n",
              "      <th>0</th>\n",
              "      <td>2023-01-01 0:00:00</td>\n",
              "      <td>Vanilla Cake</td>\n",
              "      <td>2</td>\n",
              "      <td>12.532304</td>\n",
              "      <td>South</td>\n",
              "      <td>Cash</td>\n",
              "      <td>True</td>\n",
              "      <td>Rainy</td>\n",
              "      <td>20.654914</td>\n",
              "      <td>Poor</td>\n",
              "      <td>...</td>\n",
              "      <td>30</td>\n",
              "      <td>In Store</td>\n",
              "      <td>William Adams</td>\n",
              "      <td>9851 David Green\\nTonyaburgh, VA 02853</td>\n",
              "      <td>(916)427-7276x861</td>\n",
              "      <td>lisa00@example.net</td>\n",
              "      <td>John Bridges</td>\n",
              "      <td>pdavidson@example.com</td>\n",
              "      <td>Sunday</td>\n",
              "      <td>25.064608</td>\n",
              "    </tr>\n",
              "    <tr>\n",
              "      <th>1</th>\n",
              "      <td>2023-01-01 1:00:00</td>\n",
              "      <td>Red Velvet Cake</td>\n",
              "      <td>1</td>\n",
              "      <td>7.083070</td>\n",
              "      <td>South</td>\n",
              "      <td>Cash</td>\n",
              "      <td>False</td>\n",
              "      <td>Rainy</td>\n",
              "      <td>23.549497</td>\n",
              "      <td>Average</td>\n",
              "      <td>...</td>\n",
              "      <td>33</td>\n",
              "      <td>In Store</td>\n",
              "      <td>Anthony Wiggins</td>\n",
              "      <td>24682 Holly Stravenue\\nMooreville, NH 13901</td>\n",
              "      <td>769.318.4373</td>\n",
              "      <td>michellefernandez@example.com</td>\n",
              "      <td>Sarah Bentley</td>\n",
              "      <td>ajohnson@example.net</td>\n",
              "      <td>Sunday</td>\n",
              "      <td>7.083070</td>\n",
              "    </tr>\n",
              "    <tr>\n",
              "      <th>2</th>\n",
              "      <td>2023-01-01 2:00:00</td>\n",
              "      <td>Chocolate Cake</td>\n",
              "      <td>5</td>\n",
              "      <td>6.736064</td>\n",
              "      <td>North</td>\n",
              "      <td>Cash</td>\n",
              "      <td>True</td>\n",
              "      <td>Rainy</td>\n",
              "      <td>NaN</td>\n",
              "      <td>Excellent</td>\n",
              "      <td>...</td>\n",
              "      <td>43</td>\n",
              "      <td>Phone Order</td>\n",
              "      <td>Ashley Duke</td>\n",
              "      <td>10184 Washington Trace Apt. 679\\nEast Brandist...</td>\n",
              "      <td>702.520.3286</td>\n",
              "      <td>cooperwilliam@example.com</td>\n",
              "      <td>Connie Cervantes</td>\n",
              "      <td>michele29@example.net</td>\n",
              "      <td>Sunday</td>\n",
              "      <td>33.680321</td>\n",
              "    </tr>\n",
              "    <tr>\n",
              "      <th>3</th>\n",
              "      <td>2023-01-01 3:00:00</td>\n",
              "      <td>Carrot Cake</td>\n",
              "      <td>2</td>\n",
              "      <td>7.314823</td>\n",
              "      <td>North</td>\n",
              "      <td>Cash</td>\n",
              "      <td>False</td>\n",
              "      <td>Cloudy</td>\n",
              "      <td>20.137483</td>\n",
              "      <td>Poor</td>\n",
              "      <td>...</td>\n",
              "      <td>32</td>\n",
              "      <td>Online Order</td>\n",
              "      <td>Brandon Taylor</td>\n",
              "      <td>87194 Jeff Rue\\nMitchellbury, CA 50463</td>\n",
              "      <td>622-527-9530</td>\n",
              "      <td>fsilva@example.net</td>\n",
              "      <td>Jessica Stewart</td>\n",
              "      <td>xwilson@example.org</td>\n",
              "      <td>Sunday</td>\n",
              "      <td>14.629647</td>\n",
              "    </tr>\n",
              "    <tr>\n",
              "      <th>4</th>\n",
              "      <td>2023-01-01 4:00:00</td>\n",
              "      <td>Pizza Pepperoni</td>\n",
              "      <td>1</td>\n",
              "      <td>7.577727</td>\n",
              "      <td>East</td>\n",
              "      <td>Credit Card</td>\n",
              "      <td>True</td>\n",
              "      <td>Cloudy</td>\n",
              "      <td>23.020987</td>\n",
              "      <td>Good</td>\n",
              "      <td>...</td>\n",
              "      <td>58</td>\n",
              "      <td>In Store</td>\n",
              "      <td>Brittany Watkins</td>\n",
              "      <td>850 Julia Groves\\nHartview, WI 95954</td>\n",
              "      <td>759-517-8359</td>\n",
              "      <td>petersjoseph@example.net</td>\n",
              "      <td>Cheryl Carpenter</td>\n",
              "      <td>christine96@example.org</td>\n",
              "      <td>Sunday</td>\n",
              "      <td>7.577727</td>\n",
              "    </tr>\n",
              "  </tbody>\n",
              "</table>\n",
              "<p>5 rows × 21 columns</p>\n",
              "</div>\n",
              "    <div class=\"colab-df-buttons\">\n",
              "\n",
              "  <div class=\"colab-df-container\">\n",
              "    <button class=\"colab-df-convert\" onclick=\"convertToInteractive('df-26cb3a88-095b-4dfb-ad7a-b0fd282cb8b9')\"\n",
              "            title=\"Convert this dataframe to an interactive table.\"\n",
              "            style=\"display:none;\">\n",
              "\n",
              "  <svg xmlns=\"http://www.w3.org/2000/svg\" height=\"24px\" viewBox=\"0 -960 960 960\">\n",
              "    <path d=\"M120-120v-720h720v720H120Zm60-500h600v-160H180v160Zm220 220h160v-160H400v160Zm0 220h160v-160H400v160ZM180-400h160v-160H180v160Zm440 0h160v-160H620v160ZM180-180h160v-160H180v160Zm440 0h160v-160H620v160Z\"/>\n",
              "  </svg>\n",
              "    </button>\n",
              "\n",
              "  <style>\n",
              "    .colab-df-container {\n",
              "      display:flex;\n",
              "      gap: 12px;\n",
              "    }\n",
              "\n",
              "    .colab-df-convert {\n",
              "      background-color: #E8F0FE;\n",
              "      border: none;\n",
              "      border-radius: 50%;\n",
              "      cursor: pointer;\n",
              "      display: none;\n",
              "      fill: #1967D2;\n",
              "      height: 32px;\n",
              "      padding: 0 0 0 0;\n",
              "      width: 32px;\n",
              "    }\n",
              "\n",
              "    .colab-df-convert:hover {\n",
              "      background-color: #E2EBFA;\n",
              "      box-shadow: 0px 1px 2px rgba(60, 64, 67, 0.3), 0px 1px 3px 1px rgba(60, 64, 67, 0.15);\n",
              "      fill: #174EA6;\n",
              "    }\n",
              "\n",
              "    .colab-df-buttons div {\n",
              "      margin-bottom: 4px;\n",
              "    }\n",
              "\n",
              "    [theme=dark] .colab-df-convert {\n",
              "      background-color: #3B4455;\n",
              "      fill: #D2E3FC;\n",
              "    }\n",
              "\n",
              "    [theme=dark] .colab-df-convert:hover {\n",
              "      background-color: #434B5C;\n",
              "      box-shadow: 0px 1px 3px 1px rgba(0, 0, 0, 0.15);\n",
              "      filter: drop-shadow(0px 1px 2px rgba(0, 0, 0, 0.3));\n",
              "      fill: #FFFFFF;\n",
              "    }\n",
              "  </style>\n",
              "\n",
              "    <script>\n",
              "      const buttonEl =\n",
              "        document.querySelector('#df-26cb3a88-095b-4dfb-ad7a-b0fd282cb8b9 button.colab-df-convert');\n",
              "      buttonEl.style.display =\n",
              "        google.colab.kernel.accessAllowed ? 'block' : 'none';\n",
              "\n",
              "      async function convertToInteractive(key) {\n",
              "        const element = document.querySelector('#df-26cb3a88-095b-4dfb-ad7a-b0fd282cb8b9');\n",
              "        const dataTable =\n",
              "          await google.colab.kernel.invokeFunction('convertToInteractive',\n",
              "                                                    [key], {});\n",
              "        if (!dataTable) return;\n",
              "\n",
              "        const docLinkHtml = 'Like what you see? Visit the ' +\n",
              "          '<a target=\"_blank\" href=https://colab.research.google.com/notebooks/data_table.ipynb>data table notebook</a>'\n",
              "          + ' to learn more about interactive tables.';\n",
              "        element.innerHTML = '';\n",
              "        dataTable['output_type'] = 'display_data';\n",
              "        await google.colab.output.renderOutput(dataTable, element);\n",
              "        const docLink = document.createElement('div');\n",
              "        docLink.innerHTML = docLinkHtml;\n",
              "        element.appendChild(docLink);\n",
              "      }\n",
              "    </script>\n",
              "  </div>\n",
              "\n",
              "\n",
              "<div id=\"df-d4a168ee-9531-428b-b050-2c29d951f200\">\n",
              "  <button class=\"colab-df-quickchart\" onclick=\"quickchart('df-d4a168ee-9531-428b-b050-2c29d951f200')\"\n",
              "            title=\"Suggest charts\"\n",
              "            style=\"display:none;\">\n",
              "\n",
              "<svg xmlns=\"http://www.w3.org/2000/svg\" height=\"24px\"viewBox=\"0 0 24 24\"\n",
              "     width=\"24px\">\n",
              "    <g>\n",
              "        <path d=\"M19 3H5c-1.1 0-2 .9-2 2v14c0 1.1.9 2 2 2h14c1.1 0 2-.9 2-2V5c0-1.1-.9-2-2-2zM9 17H7v-7h2v7zm4 0h-2V7h2v10zm4 0h-2v-4h2v4z\"/>\n",
              "    </g>\n",
              "</svg>\n",
              "  </button>\n",
              "\n",
              "<style>\n",
              "  .colab-df-quickchart {\n",
              "      --bg-color: #E8F0FE;\n",
              "      --fill-color: #1967D2;\n",
              "      --hover-bg-color: #E2EBFA;\n",
              "      --hover-fill-color: #174EA6;\n",
              "      --disabled-fill-color: #AAA;\n",
              "      --disabled-bg-color: #DDD;\n",
              "  }\n",
              "\n",
              "  [theme=dark] .colab-df-quickchart {\n",
              "      --bg-color: #3B4455;\n",
              "      --fill-color: #D2E3FC;\n",
              "      --hover-bg-color: #434B5C;\n",
              "      --hover-fill-color: #FFFFFF;\n",
              "      --disabled-bg-color: #3B4455;\n",
              "      --disabled-fill-color: #666;\n",
              "  }\n",
              "\n",
              "  .colab-df-quickchart {\n",
              "    background-color: var(--bg-color);\n",
              "    border: none;\n",
              "    border-radius: 50%;\n",
              "    cursor: pointer;\n",
              "    display: none;\n",
              "    fill: var(--fill-color);\n",
              "    height: 32px;\n",
              "    padding: 0;\n",
              "    width: 32px;\n",
              "  }\n",
              "\n",
              "  .colab-df-quickchart:hover {\n",
              "    background-color: var(--hover-bg-color);\n",
              "    box-shadow: 0 1px 2px rgba(60, 64, 67, 0.3), 0 1px 3px 1px rgba(60, 64, 67, 0.15);\n",
              "    fill: var(--button-hover-fill-color);\n",
              "  }\n",
              "\n",
              "  .colab-df-quickchart-complete:disabled,\n",
              "  .colab-df-quickchart-complete:disabled:hover {\n",
              "    background-color: var(--disabled-bg-color);\n",
              "    fill: var(--disabled-fill-color);\n",
              "    box-shadow: none;\n",
              "  }\n",
              "\n",
              "  .colab-df-spinner {\n",
              "    border: 2px solid var(--fill-color);\n",
              "    border-color: transparent;\n",
              "    border-bottom-color: var(--fill-color);\n",
              "    animation:\n",
              "      spin 1s steps(1) infinite;\n",
              "  }\n",
              "\n",
              "  @keyframes spin {\n",
              "    0% {\n",
              "      border-color: transparent;\n",
              "      border-bottom-color: var(--fill-color);\n",
              "      border-left-color: var(--fill-color);\n",
              "    }\n",
              "    20% {\n",
              "      border-color: transparent;\n",
              "      border-left-color: var(--fill-color);\n",
              "      border-top-color: var(--fill-color);\n",
              "    }\n",
              "    30% {\n",
              "      border-color: transparent;\n",
              "      border-left-color: var(--fill-color);\n",
              "      border-top-color: var(--fill-color);\n",
              "      border-right-color: var(--fill-color);\n",
              "    }\n",
              "    40% {\n",
              "      border-color: transparent;\n",
              "      border-right-color: var(--fill-color);\n",
              "      border-top-color: var(--fill-color);\n",
              "    }\n",
              "    60% {\n",
              "      border-color: transparent;\n",
              "      border-right-color: var(--fill-color);\n",
              "    }\n",
              "    80% {\n",
              "      border-color: transparent;\n",
              "      border-right-color: var(--fill-color);\n",
              "      border-bottom-color: var(--fill-color);\n",
              "    }\n",
              "    90% {\n",
              "      border-color: transparent;\n",
              "      border-bottom-color: var(--fill-color);\n",
              "    }\n",
              "  }\n",
              "</style>\n",
              "\n",
              "  <script>\n",
              "    async function quickchart(key) {\n",
              "      const quickchartButtonEl =\n",
              "        document.querySelector('#' + key + ' button');\n",
              "      quickchartButtonEl.disabled = true;  // To prevent multiple clicks.\n",
              "      quickchartButtonEl.classList.add('colab-df-spinner');\n",
              "      try {\n",
              "        const charts = await google.colab.kernel.invokeFunction(\n",
              "            'suggestCharts', [key], {});\n",
              "      } catch (error) {\n",
              "        console.error('Error during call to suggestCharts:', error);\n",
              "      }\n",
              "      quickchartButtonEl.classList.remove('colab-df-spinner');\n",
              "      quickchartButtonEl.classList.add('colab-df-quickchart-complete');\n",
              "    }\n",
              "    (() => {\n",
              "      let quickchartButtonEl =\n",
              "        document.querySelector('#df-d4a168ee-9531-428b-b050-2c29d951f200 button');\n",
              "      quickchartButtonEl.style.display =\n",
              "        google.colab.kernel.accessAllowed ? 'block' : 'none';\n",
              "    })();\n",
              "  </script>\n",
              "</div>\n",
              "\n",
              "    </div>\n",
              "  </div>\n"
            ],
            "application/vnd.google.colaboratory.intrinsic+json": {
              "type": "dataframe",
              "variable_name": "chart_data"
            }
          },
          "metadata": {},
          "execution_count": 19
        }
      ]
    },
    {
      "cell_type": "code",
      "source": [
        "import seaborn as sns\n",
        "import matplotlib.pyplot as plt"
      ],
      "metadata": {
        "id": "HXJoMZg25f4u"
      },
      "execution_count": 39,
      "outputs": []
    },
    {
      "cell_type": "code",
      "source": [
        "chart_data.columns"
      ],
      "metadata": {
        "colab": {
          "base_uri": "https://localhost:8080/"
        },
        "id": "poBCk_MA5yv_",
        "outputId": "20fd43cb-a3ef-4d9d-9a83-843cf3f830ac"
      },
      "execution_count": 22,
      "outputs": [
        {
          "output_type": "execute_result",
          "data": {
            "text/plain": [
              "Index(['Date', 'ProductName', 'Quantity', 'UnitPrice', 'StoreLocation',\n",
              "       'PaymentType', 'PromotionApplied', 'Weather', 'Temperature',\n",
              "       'StaffPerformanceRating', 'CustomerFeedback', 'DeliveryTime_min',\n",
              "       'OrderType', 'CustomerName', 'CustomerAddress', 'Customer_PhoneNumber',\n",
              "       'CustomerEmail', 'Staff_Name', 'Staff_Email', 'DayOfWeek',\n",
              "       'TotalSales'],\n",
              "      dtype='object')"
            ]
          },
          "metadata": {},
          "execution_count": 22
        }
      ]
    },
    {
      "cell_type": "code",
      "source": [
        "sns.barplot(x='StoreLocation', y='TotalSales', data=chart_data)\n",
        "plt.show()\n",
        "plt.savefig('plot_1.png')"
      ],
      "metadata": {
        "colab": {
          "base_uri": "https://localhost:8080/",
          "height": 466
        },
        "id": "w9xcTSas5mLZ",
        "outputId": "1e480336-65b8-4d3f-aa5f-335cd747f78a"
      },
      "execution_count": 46,
      "outputs": [
        {
          "output_type": "display_data",
          "data": {
            "text/plain": [
              "<Figure size 640x480 with 1 Axes>"
            ],
            "image/png": "[encoded data removed]"
          },
          "metadata": {}
        },
        {
          "output_type": "display_data",
          "data": {
            "text/plain": [
              "<Figure size 640x480 with 0 Axes>"
            ]
          },
          "metadata": {}
        }
      ]
    },
    {
      "cell_type": "code",
      "source": [
        "image_path = img\n",
        "explanation_chart = generate_chart_explanation_from_image(image_path)\n",
        "print(explanation_chart)"
      ],
      "metadata": {
        "colab": {
          "base_uri": "https://localhost:8080/"
        },
        "id": "M1wlUjFH5t7f",
        "outputId": "5050b34d-ce21-49fa-deed-16a4491ed35c"
      },
      "execution_count": 36,
      "outputs": [
        {
          "output_type": "stream",
          "name": "stdout",
          "text": [
            "Let's break down what's going on in a plot with a size of 640x480:\n",
            "\n",
            "**Figure:** A figure is like a window that displays a graph or chart. Think of it like a piece of paper where you draw a picture.\n",
            "\n",
            "**Size: 640x480**: This is the size of the figure, measured in pixels (tiny squares that make up the display on your screen). Imagine a grid of tiny squares, with 640 squares going across (width) and 480 squares going up (height).\n",
            "\n",
            "Here's what it looks like:\n",
            "\n",
            "* **Width:** 640 pixels across (left to right). This means the figure is 640 tiny squares wide.\n",
            "* **Height:** 480 pixels up (top to bottom). This means the figure is 480 tiny squares tall.\n",
            "\n",
            "To put it simply, the plot is a rectangular area with a certain number of pixels in width and height. This determines how big the graph or chart will be on your screen.\n",
            "\n",
            "Think of it like a piece of paper with a specific size, where you can draw a picture, graph, or chart. The 640x480 size gives you a certain amount of space to display your data in a nice, rectangular shape!\n"
          ]
        }
      ]
    },
    {
      "cell_type": "code",
      "source": [
        "img = plot_1.savefig()"
      ],
      "metadata": {
        "colab": {
          "base_uri": "https://localhost:8080/",
          "height": 141
        },
        "id": "QVNVyFdT6IRL",
        "outputId": "d17b878d-a4ab-4f0f-b2a1-e0afd93cd655"
      },
      "execution_count": 43,
      "outputs": [
        {
          "output_type": "error",
          "ename": "AttributeError",
          "evalue": "'Axes' object has no attribute 'savefig'",
          "traceback": [
            "\u001b[0;31m---------------------------------------------------------------------------\u001b[0m",
            "\u001b[0;31mAttributeError\u001b[0m                            Traceback (most recent call last)",
            "\u001b[0;32m<ipython-input-43-b6db2d7ef723>\u001b[0m in \u001b[0;36m<cell line: 0>\u001b[0;34m()\u001b[0m\n\u001b[0;32m----> 1\u001b[0;31m \u001b[0mimg\u001b[0m \u001b[0;34m=\u001b[0m \u001b[0mplot_1\u001b[0m\u001b[0;34m.\u001b[0m\u001b[0msavefig\u001b[0m\u001b[0;34m(\u001b[0m\u001b[0;34m)\u001b[0m\u001b[0;34m\u001b[0m\u001b[0;34m\u001b[0m\u001b[0m\n\u001b[0m",
            "\u001b[0;31mAttributeError\u001b[0m: 'Axes' object has no attribute 'savefig'"
          ]
        }
      ]
    },
    {
      "cell_type": "code",
      "source": [
        "print(img)"
      ],
      "metadata": {
        "colab": {
          "base_uri": "https://localhost:8080/"
        },
        "id": "_ItMYk5U7FMc",
        "outputId": "8ab31df6-44fa-4ed9-bc12-486947b35e56"
      },
      "execution_count": 41,
      "outputs": [
        {
          "output_type": "stream",
          "name": "stdout",
          "text": [
            "None\n"
          ]
        }
      ]
    },
    {
      "cell_type": "code",
      "source": [],
      "metadata": {
        "id": "UqPGY4yf7NGe"
      },
      "execution_count": null,
      "outputs": []
    }
  ]
}